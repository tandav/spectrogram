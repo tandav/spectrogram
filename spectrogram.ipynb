{
  "nbformat": 4,
  "nbformat_minor": 0,
  "metadata": {
    "colab": {
      "name": "spectrogram.ipynb",
      "version": "0.3.2",
      "provenance": [],
      "collapsed_sections": [
        "sTlWFVu6Y2ol"
      ]
    },
    "kernelspec": {
      "display_name": "Python 3",
      "language": "python",
      "name": "python3"
    },
    "accelerator": "GPU"
  },
  "cells": [
    {
      "metadata": {
        "id": "PMsW-rkiNRfI",
        "colab_type": "text"
      },
      "cell_type": "markdown",
      "source": [
        "# Custom DFT for hi-res spectrograms"
      ]
    },
    {
      "metadata": {
        "id": "eIM9pbXhJ7DI",
        "colab_type": "text"
      },
      "cell_type": "markdown",
      "source": [
        "## install, import, init, upload"
      ]
    },
    {
      "metadata": {
        "id": "sl5x4RCEH757",
        "colab_type": "code",
        "colab": {}
      },
      "cell_type": "code",
      "source": [
        "%%capture\n",
        "!apt -y install libcusparse8.0 libnvrtc8.0 libnvtoolsext1\n",
        "!ln -snf /usr/lib/x86_64-linux-gnu/libnvrtc-builtins.so.8.0 /usr/lib/x86_64-linux-gnu/libnvrtc-builtins.so\n",
        "!pip install cupy-cuda80"
      ],
      "execution_count": 0,
      "outputs": []
    },
    {
      "metadata": {
        "id": "_I3jlhf4zPir",
        "colab_type": "code",
        "colab": {}
      },
      "cell_type": "code",
      "source": [
        "%%capture\n",
        "!apt-get install ffmpeg # sometimes need runtime restart"
      ],
      "execution_count": 0,
      "outputs": []
    },
    {
      "metadata": {
        "id": "nQuRStzPNRfM",
        "colab_type": "code",
        "colab": {
          "base_uri": "https://localhost:8080/",
          "height": 34
        },
        "outputId": "a4eada38-c76b-448a-edf6-85f82c7daba6"
      },
      "cell_type": "code",
      "source": [
        "from google.colab import files\n",
        "from glob import glob\n",
        "from PIL import Image\n",
        "import os\n",
        "import numpy as np\n",
        "import cupy as cp\n",
        "# import matplotlib\n",
        "# matplotlib.use(\"Agg\")\n",
        "import matplotlib.animation as manimation\n",
        "import matplotlib.pyplot as plt\n",
        "import zipfile\n",
        "# import sys\n",
        "# plt.rcParams['figure.figsize'] = [20, 20]\n",
        "# plt.rcParams['figure.figsize'] = [30, 30]\n",
        "plt.rcParams['figure.figsize'] = [10, 10]\n",
        "print(manimation.writers.list()) # should contains 'ffmpeg'"
      ],
      "execution_count": 2,
      "outputs": [
        {
          "output_type": "stream",
          "text": [
            "['ffmpeg', 'ffmpeg_file', 'html']\n"
          ],
          "name": "stdout"
        }
      ]
    },
    {
      "metadata": {
        "id": "sBkNZk1tE8gk",
        "colab_type": "code",
        "colab": {}
      },
      "cell_type": "code",
      "source": [
        "def spectrogram_column(chunk, rate, frame_height=1080):\n",
        "    \n",
        "    t = np.linspace(0, chunk.shape[0] / rate, chunk.shape[0], dtype=chunk.dtype)\n",
        "    f = np.geomspace(30, chunk.shape[0] // 2, frame_height) # second arg: nperseg//2 (Nyquist limit)\n",
        "    \n",
        "    T, F = np.meshgrid(t, f)\n",
        "    E = cp.array(np.exp(-2j * np.pi * F * T), dtype=np.complex64) # complex64: Complex number, represented by two 32-bit floats (real and imaginary components)\n",
        "\n",
        "    # maybe multiply by window here\n",
        "    \n",
        "    corr = cp.dot(E, chunk)\n",
        "    magnitude = cp.abs(corr)\n",
        "#     print(magnitude.shape)\n",
        "#     column = cp.asnumpy(magnitude.T)\n",
        "    column = magnitude\n",
        "    return column"
      ],
      "execution_count": 0,
      "outputs": []
    },
    {
      "metadata": {
        "id": "ZMd5caERK1tQ",
        "colab_type": "code",
        "colab": {
          "base_uri": "https://localhost:8080/",
          "height": 34
        },
        "outputId": "cdce5324-02b0-4c02-bfb7-119ab1c9ac28"
      },
      "cell_type": "code",
      "source": [
        "spectrogram_column(cp.random.random(1000),  rate=44100).max()"
      ],
      "execution_count": 4,
      "outputs": [
        {
          "output_type": "execute_result",
          "data": {
            "text/plain": [
              "array(199.67696038)"
            ]
          },
          "metadata": {
            "tags": []
          },
          "execution_count": 4
        }
      ]
    },
    {
      "metadata": {
        "id": "sxaUual9eIww",
        "colab_type": "text"
      },
      "cell_type": "markdown",
      "source": [
        "# Make Video"
      ]
    },
    {
      "metadata": {
        "id": "VHsZOJWbeKQf",
        "colab_type": "code",
        "colab": {}
      },
      "cell_type": "code",
      "source": [
        "uploaded = files.upload()\n",
        "for fn in uploaded.keys():\n",
        "    print(f'User uploaded file \"{fn}\" with length {len(uploaded[fn])} bytes')"
      ],
      "execution_count": 0,
      "outputs": []
    },
    {
      "metadata": {
        "id": "imwdrmfxPzNc",
        "colab_type": "code",
        "colab": {
          "base_uri": "https://localhost:8080/",
          "height": 34
        },
        "outputId": "6e26ef60-f7ba-4e6e-815a-68492d048f69"
      },
      "cell_type": "code",
      "source": [
        "!ls"
      ],
      "execution_count": 1,
      "outputs": [
        {
          "output_type": "stream",
          "text": [
            "datalab  sample_data\r\n"
          ],
          "name": "stdout"
        }
      ]
    },
    {
      "metadata": {
        "id": "Iv5lEA1llCxg",
        "colab_type": "code",
        "colab": {
          "base_uri": "https://localhost:8080/",
          "height": 85
        },
        "outputId": "d7a59aee-a74a-4fc5-df42-2757b9706d91"
      },
      "cell_type": "code",
      "source": [
        "from scipy.io import wavfile\n",
        "rate, track = wavfile.read('mkns_44k_8s_a4561045.wav') # now supports only mono .wav files\n",
        "print(f'rate {rate}')\n",
        "\n",
        "wav_dtype = track.dtype\n",
        "\n",
        "wav_max = np.iinfo(wav_dtype).max\n",
        "wav_min = np.iinfo(wav_dtype).min\n",
        "\n",
        "track = track.astype(np.float32)\n",
        "track = (track - wav_min) * 2 / (wav_max - wav_min) -1 # normalise -1..1\n",
        "\n",
        "print(track.dtype)\n",
        "# track = x[:20000]\n",
        "# left_channel  = x[:, 0]\n",
        "# right_channel = x[:, 1]\n",
        "# track = left_channel\n",
        "# average left and right channels to mono signal (reaaly bad, don't do this)\n",
        "# track = (left_channel + right_channel) / 2 \n",
        "n = len(track)\n",
        "seconds = n/rate \n",
        "print(f'{seconds} seconds')\n",
        "t = np.linspace(0, seconds, n, dtype=track.dtype)\n",
        "print(t.dtype)\n",
        "# plt.grid()\n",
        "# plt.plot(t, track, 'k-', linewidth=0.1)\n",
        "# track_chunks = track_to_chunks(track)\n",
        "# print(track_chunks.shape)"
      ],
      "execution_count": 6,
      "outputs": [
        {
          "output_type": "stream",
          "text": [
            "rate 44100\n",
            "float32\n",
            "8.0 seconds\n",
            "float32\n"
          ],
          "name": "stdout"
        }
      ]
    },
    {
      "metadata": {
        "id": "ff0PE7hB5Fyh",
        "colab_type": "code",
        "colab": {
          "base_uri": "https://localhost:8080/",
          "height": 34
        },
        "outputId": "a0cfd8d3-6af9-4c6d-af08-812d964b452f"
      },
      "cell_type": "code",
      "source": [
        "fps = 60\n",
        "frames = fps * seconds\n",
        "print(f'{frames} frames')"
      ],
      "execution_count": 7,
      "outputs": [
        {
          "output_type": "stream",
          "text": [
            "480.0 frames\n"
          ],
          "name": "stdout"
        }
      ]
    },
    {
      "metadata": {
        "id": "7H2EUpcb4e1F",
        "colab_type": "code",
        "colab": {
          "base_uri": "https://localhost:8080/",
          "height": 34
        },
        "outputId": "bef6a375-f90c-4cfa-fe02-74975e389c6c"
      },
      "cell_type": "code",
      "source": [
        "# use supersolver (lite-solver) to find nperseg and step\n",
        "nperseg = 10_000\n",
        "step    = 715 # abap\n",
        "noverlap = nperseg - step\n",
        "\n",
        "# if 1 column per frame then number_of_columns = number_of_frames = fps * seconds\n",
        "print((n - noverlap) // step, fps * seconds)"
      ],
      "execution_count": 8,
      "outputs": [
        {
          "output_type": "stream",
          "text": [
            "480 480.0\n"
          ],
          "name": "stdout"
        }
      ]
    },
    {
      "metadata": {
        "id": "4ezlXsUa5tI6",
        "colab_type": "code",
        "colab": {
          "base_uri": "https://localhost:8080/",
          "height": 34
        },
        "outputId": "fc24a589-dbd3-4c8d-b4fa-b11b2e9e7d65"
      },
      "cell_type": "code",
      "source": [
        "x = track\n",
        "shape   = ((x.shape[0] - noverlap) // step, nperseg)\n",
        "strides = (step * x.strides[-1], x.strides[-1])\n",
        "audio_rolled = cp.array(np.lib.stride_tricks.as_strided(x, shape=shape, strides=strides))\n",
        "audio_rolled.shape"
      ],
      "execution_count": 9,
      "outputs": [
        {
          "output_type": "execute_result",
          "data": {
            "text/plain": [
              "(480, 10000)"
            ]
          },
          "metadata": {
            "tags": []
          },
          "execution_count": 9
        }
      ]
    },
    {
      "metadata": {
        "id": "weLiBc8hCkmV",
        "colab_type": "code",
        "colab": {}
      },
      "cell_type": "code",
      "source": [
        "FFMpegWriter = manimation.writers['ffmpeg']\n",
        "metadata = dict(\n",
        "    title='Movie Test', \n",
        "    artist='Matplotlib',\n",
        ")\n",
        "writer = FFMpegWriter(\n",
        "    fps=60,\n",
        "#     codec='ffv1', default codec is 'h264'\n",
        "#     bitrate=\n",
        "    metadata=metadata\n",
        ")\n",
        "\n",
        "frame = cp.zeros((1920, 1080))\n",
        "\n",
        "# frame = cp.random.random((1920, 1080))\n",
        "fig = plt.figure(figsize=(19.20, 10.80))\n",
        "\n",
        "print(frame.dtype)\n",
        "\n",
        "# fig.subplots_adjust(left=0.1, bottom=0, right=0.9, top=1, wspace=None, hspace=None)\n",
        "fig.subplots_adjust(left=0, bottom=0, right=1, top=1, wspace=None, hspace=None)\n",
        "im = plt.imshow(\n",
        "    cp.asnumpy(frame.T), \n",
        "    cmap='viridis',\n",
        "    vmin=0,\n",
        "    vmax=300,\n",
        "    origin='lower',\n",
        ")\n",
        "plt.grid(False)\n",
        "\n",
        "with writer.saving(fig, 'writer_test.mp4', dpi=100):\n",
        "    for i, chunk in enumerate(audio_rolled):\n",
        "        print(i)\n",
        "        frame = cp.roll(frame, -1, axis=0)\n",
        "        frame[-1] = spectrogram_column(chunk, rate=rate)\n",
        "        im.set_array(cp.asnumpy(frame.T))\n",
        "        writer.grab_frame()"
      ],
      "execution_count": 0,
      "outputs": []
    },
    {
      "metadata": {
        "id": "S8bZ9Glrt4i6",
        "colab_type": "code",
        "colab": {}
      },
      "cell_type": "code",
      "source": [
        "files.download('writer_test.mp4')"
      ],
      "execution_count": 0,
      "outputs": []
    },
    {
      "metadata": {
        "id": "ojtiAOoIx-AN",
        "colab_type": "code",
        "colab": {
          "base_uri": "https://localhost:8080/",
          "height": 255
        },
        "outputId": "1dc541b1-cc01-4ba9-d2c4-e47b5f2d5820"
      },
      "cell_type": "code",
      "source": [
        "!ls -alh"
      ],
      "execution_count": 91,
      "outputs": [
        {
          "output_type": "stream",
          "text": [
            "total 744K\r\n",
            "drwxr-xr-x 1 root root 4.0K Aug 21 11:22 .\r\n",
            "drwxr-xr-x 1 root root 4.0K Aug 21 09:46 ..\r\n",
            "drwx------ 4 root root 4.0K Aug 21 09:47 .cache\r\n",
            "drwxr-xr-x 1 root root 4.0K Aug 21 09:47 .config\r\n",
            "drwxr-xr-x 3 root root 4.0K Aug 21 10:34 .cupy\r\n",
            "lrwxrwxrwx 1 root root    8 Aug 15 20:56 datalab -> /content\r\n",
            "drwxr-xr-x 4 root root 4.0K Aug 21 09:47 .forever\r\n",
            "drwxr-xr-x 5 root root 4.0K Aug 21 09:47 .ipython\r\n",
            "drwx------ 3 root root 4.0K Aug 21 09:47 .local\r\n",
            "-rw-r--r-- 1 root root 690K Aug 21 10:09 mkns_44k_8s_a4561045.wav\r\n",
            "drwx------ 3 root root 4.0K Aug 21 10:31 .nv\r\n",
            "drwxr-xr-x 2 root root 4.0K Aug 15 20:56 sample_data\r\n",
            "-rw-r--r-- 1 root root 6.8K Aug 21 12:46 writer_test.mp4\r\n"
          ],
          "name": "stdout"
        }
      ]
    },
    {
      "metadata": {
        "id": "HSKqUlcD7cjW",
        "colab_type": "code",
        "colab": {
          "base_uri": "https://localhost:8080/",
          "height": 51
        },
        "outputId": "e4b865c3-cd83-4d83-f74d-9761d75d0371"
      },
      "cell_type": "code",
      "source": [
        "# https://stackoverflow.com/questions/684015\n",
        "!ffprobe -v error -of flat=s=_ -select_streams v:0 -show_entries stream=height,width writer_test.mp4"
      ],
      "execution_count": 43,
      "outputs": [
        {
          "output_type": "stream",
          "text": [
            "streams_stream_0_width=1920\r\n",
            "streams_stream_0_height=1080\r\n"
          ],
          "name": "stdout"
        }
      ]
    },
    {
      "metadata": {
        "id": "sTlWFVu6Y2ol",
        "colab_type": "text"
      },
      "cell_type": "markdown",
      "source": [
        "## download\n",
        "короче Colab не дает скачать large files.\n",
        "- Нужно либо заливать их на google drive\n",
        "- либо качать маленькими файлами. \n",
        "- Либо заливать куда-то еще / на свой сайт / а потом уже оттуда выкачивать."
      ]
    },
    {
      "metadata": {
        "id": "zMmaP8HPDk33",
        "colab_type": "code",
        "colab": {}
      },
      "cell_type": "code",
      "source": [
        "# Install the PyDrive wrapper & import libraries.\n",
        "# This only needs to be done once in a notebook.\n",
        "!pip install -U -q PyDrive\n",
        "from pydrive.auth import GoogleAuth\n",
        "from pydrive.drive import GoogleDrive\n",
        "from google.colab import auth\n",
        "from oauth2client.client import GoogleCredentials\n",
        "\n",
        "# Authenticate and create the PyDrive client.\n",
        "# This only needs to be done once in a notebook.\n",
        "auth.authenticate_user()\n",
        "gauth = GoogleAuth()\n",
        "gauth.credentials = GoogleCredentials.get_application_default()\n",
        "drive = GoogleDrive(gauth)"
      ],
      "execution_count": 0,
      "outputs": []
    },
    {
      "metadata": {
        "id": "a4bf57qkVmF3",
        "colab_type": "code",
        "colab": {}
      },
      "cell_type": "code",
      "source": [
        "file_to_download = 'spectrogram.zip'\n",
        "# files.download(file_to_download)\n",
        "# Create & upload a file.\n",
        "uploaded = drive.CreateFile({'title': file_to_download})\n",
        "uploaded.SetContentFile(file_to_download)\n",
        "uploaded.Upload()\n",
        "print('Uploaded file with ID {}'.format(uploaded.get('id')))"
      ],
      "execution_count": 0,
      "outputs": []
    }
  ]
}