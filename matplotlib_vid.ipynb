{
  "nbformat": 4,
  "nbformat_minor": 0,
  "metadata": {
    "colab": {
      "name": "matplotlib-vid.ipynb",
      "version": "0.3.2",
      "views": {},
      "default_view": {},
      "provenance": [],
      "collapsed_sections": []
    },
    "kernelspec": {
      "name": "python3",
      "display_name": "Python 3"
    },
    "accelerator": "GPU"
  },
  "cells": [
    {
      "metadata": {
        "id": "O0Kyi8nTz39y",
        "colab_type": "code",
        "colab": {
          "autoexec": {
            "startup": false,
            "wait_interval": 0
          }
        }
      },
      "cell_type": "code",
      "source": [
        "!apt-get install ffmpeg # sometimes need runtime restart"
      ],
      "execution_count": 0,
      "outputs": []
    },
    {
      "metadata": {
        "id": "UKaJykBmz-NN",
        "colab_type": "code",
        "colab": {
          "autoexec": {
            "startup": false,
            "wait_interval": 0
          },
          "base_uri": "https://localhost:8080/",
          "height": 34
        },
        "outputId": "14d87a17-9bf1-43df-bc0d-0ffcb7404d02",
        "executionInfo": {
          "status": "ok",
          "timestamp": 1533576930331,
          "user_tz": -180,
          "elapsed": 568,
          "user": {
            "displayName": "Alexander Rodionov",
            "photoUrl": "//lh4.googleusercontent.com/-mHhV5OliXHw/AAAAAAAAAAI/AAAAAAAAaAc/GQOau-itz68/s50-c-k-no/photo.jpg",
            "userId": "106847308707363817765"
          }
        }
      },
      "cell_type": "code",
      "source": [
        "from google.colab import files\n",
        "import numpy as np\n",
        "import matplotlib.pyplot as plt\n",
        "import matplotlib.animation as animation\n",
        "print(animation.writers.list())"
      ],
      "execution_count": 3,
      "outputs": [
        {
          "output_type": "stream",
          "text": [
            "['ffmpeg', 'ffmpeg_file', 'html']\n"
          ],
          "name": "stdout"
        }
      ]
    },
    {
      "metadata": {
        "id": "ZrXMd6ydzvTM",
        "colab_type": "code",
        "colab": {
          "autoexec": {
            "startup": false,
            "wait_interval": 0
          }
        }
      },
      "cell_type": "code",
      "source": [
        "A = 80\n",
        "N = 40\n",
        "\n",
        "a  = np.linspace(-50, 50, A)\n",
        "\n",
        "def rec_cos(k):  \n",
        "  img = np.zeros((N, A))\n",
        "  for i in range(1, N):\n",
        "    img[i] = np.cos(1 * a * img[i - 1] + k)\n",
        "  return img\n",
        "\n",
        "fig = plt.figure(figsize=(20, 10))\n",
        "fig.subplots_adjust(left=0, bottom=0, right=1, top=1, wspace=None, hspace=None)\n",
        "arr = np.random.rand(N,A)\n",
        "im = plt.imshow(arr, interpolation='none', animated=True, cmap='viridis', origin='lower')\n",
        "plt.grid(False)\n",
        "\n",
        "k = 1\n",
        "def updatefig(*args):\n",
        "  global k\n",
        "  k += 0.01\n",
        "  im.set_array(rec_cos(k))\n",
        "  return im,\n",
        "\n",
        "ani = animation.FuncAnimation(fig, updatefig, blit=True, frames=100)\n",
        "\n",
        "ani.save('basic_animation.mp4', fps=60, extra_args=['-vcodec', 'libx264'], bitrate=-1)"
      ],
      "execution_count": 0,
      "outputs": []
    },
    {
      "metadata": {
        "id": "KEIUgVol0B6Y",
        "colab_type": "code",
        "colab": {
          "autoexec": {
            "startup": false,
            "wait_interval": 0
          }
        }
      },
      "cell_type": "code",
      "source": [
        "files.download('basic_animation.mp4')"
      ],
      "execution_count": 0,
      "outputs": []
    }
  ]
}