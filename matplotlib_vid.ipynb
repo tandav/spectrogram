{
  "nbformat": 4,
  "nbformat_minor": 0,
  "metadata": {
    "colab": {
      "name": "matplotlib-vid.ipynb",
      "version": "0.3.2",
      "views": {},
      "default_view": {},
      "provenance": [],
      "collapsed_sections": []
    },
    "kernelspec": {
      "name": "python3",
      "display_name": "Python 3"
    },
    "accelerator": "GPU"
  },
  "cells": [
    {
      "metadata": {
        "id": "O0Kyi8nTz39y",
        "colab_type": "code",
        "colab": {
          "autoexec": {
            "startup": false,
            "wait_interval": 0
          }
        }
      },
      "cell_type": "code",
      "source": [
        "!apt-get install ffmpeg # sometimes need runtime restart"
      ],
      "execution_count": 0,
      "outputs": []
    },
    {
      "metadata": {
        "id": "UKaJykBmz-NN",
        "colab_type": "code",
        "colab": {
          "autoexec": {
            "startup": false,
            "wait_interval": 0
          },
          "base_uri": "https://localhost:8080/",
          "height": 34
        },
        "outputId": "14d87a17-9bf1-43df-bc0d-0ffcb7404d02",
        "executionInfo": {
          "status": "ok",
          "timestamp": 1533576930331,
          "user_tz": -180,
          "elapsed": 568,
          "user": {
            "displayName": "Alexander Rodionov",
            "photoUrl": "//lh4.googleusercontent.com/-mHhV5OliXHw/AAAAAAAAAAI/AAAAAAAAaAc/GQOau-itz68/s50-c-k-no/photo.jpg",
            "userId": "106847308707363817765"
          }
        }
      },
      "cell_type": "code",
      "source": [
        "from google.colab import files\n",
        "import numpy as np\n",
        "import matplotlib.pyplot as plt\n",
        "import matplotlib.animation as animation\n",
        "print(animation.writers.list())"
      ],
      "execution_count": 3,
      "outputs": [
        {
          "output_type": "stream",
          "text": [
            "['ffmpeg', 'ffmpeg_file', 'html']\n"
          ],
          "name": "stdout"
        }
      ]
    },
    {
      "metadata": {
        "id": "ZrXMd6ydzvTM",
        "colab_type": "code",
        "colab": {
          "autoexec": {
            "startup": false,
            "wait_interval": 0
          }
        }
      },
      "cell_type": "code",
      "source": [
        "A = 80\n",
        "N = 40\n",
        "\n",
        "fig = plt.figure(figsize=(12, 10))\n",
        "# fig.subplots_adjust(left=0, bottom=0, right=1, top=1, wspace=None, hspace=None)\n",
        "# arr = np.random.random((N, A))\n",
        "# im = plt.imshow(arr, animated=True, cmap='viridis', origin='lower')\n",
        "im = plt.pcolormesh(arr, animated=True, cmap='viridis', origin='lower')\n",
        "plt.grid(False)\n",
        "\n",
        "def updatefig(*args):\n",
        "  z = np.random.random((N, A))\n",
        "  im.set_array(z)\n",
        "  return im,\n",
        "\n",
        "ani = animation.FuncAnimation(fig, updatefig, blit=True, frames=100)\n",
        "\n",
        "ani.save('basic_animation.mp4', fps=60, extra_args=['-vcodec', 'libx264'], bitrate=-1)"
      ],
      "execution_count": 0,
      "outputs": []
    },
    {
      "metadata": {
        "id": "smK4HRgmYb4z",
        "colab_type": "code",
        "colab": {
          "autoexec": {
            "startup": false,
            "wait_interval": 0
          }
        }
      },
      "cell_type": "code",
      "source": [
        "fig = plt.figure(figsize=(12, 10))\n",
        "fig.subplots_adjust(left=0.1, bottom=0, right=0.9, top=1, wspace=None, hspace=None)\n",
        "\n",
        "def f(x, y):\n",
        "    return np.sin(x) + 0.01 * np.cos(y)\n",
        "\n",
        "x = np.linspace(0, 2 * np.pi, 120)\n",
        "y = np.linspace(30, 1000, 100).reshape(-1, 1)\n",
        "\n",
        "im = plt.pcolormesh(x, y, f(x, y), animated=True, cmap='viridis')\n",
        "plt.grid(False)\n",
        "\n",
        "def updatefig(*args):\n",
        "    global x, y\n",
        "    x += np.pi / 15.\n",
        "    y += np.pi / 20.\n",
        "#     im.set_array(f(x, y))\n",
        "    im.set_array(f(x, y)[:-1,:-1].ravel())\n",
        "    return im,\n",
        "\n",
        "ani = animation.FuncAnimation(fig, updatefig, blit=True, frames=100)\n",
        "ani.save('bbe.mp4', fps=60, extra_args=['-vcodec', 'libx264'], dpi=100, bitrate=2**14)"
      ],
      "execution_count": 0,
      "outputs": []
    },
    {
      "metadata": {
        "id": "KEIUgVol0B6Y",
        "colab_type": "code",
        "colab": {
          "autoexec": {
            "startup": false,
            "wait_interval": 0
          }
        }
      },
      "cell_type": "code",
      "source": [
        "# files.download('basic_animation.mp4')\n",
        "files.download('bbe.mp4')"
      ],
      "execution_count": 0,
      "outputs": []
    }
  ]
}