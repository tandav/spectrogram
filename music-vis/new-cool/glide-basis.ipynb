{
 "cells": [
  {
   "cell_type": "markdown",
   "metadata": {},
   "source": [
    "# Glide Transform using Correlation\n",
    "https://colab.research.google.com/drive/1FPKMiduulnTE2LVs0R1XycXXKFdFKZVz#scrollTo=uRTf7mAAMXjh"
   ]
  },
  {
   "cell_type": "code",
   "execution_count": 5,
   "metadata": {},
   "outputs": [],
   "source": [
    "import numpy as np\n",
    "import matplotlib.pyplot as plt\n",
    "# plt.rcParams['figure.figsize'] = [14, 14]"
   ]
  },
  {
   "cell_type": "code",
   "execution_count": 6,
   "metadata": {},
   "outputs": [],
   "source": [
    "track_length = 10\n",
    "rate = 44100\n",
    "\n",
    "t = np.linspace(0, track_length, rate * track_length)\n",
    "\n",
    "f = 0.7\n",
    "signal = np.sin(2*np.pi*f*t)\n",
    "\n",
    "track_n = signal.size\n",
    "\n",
    "# plt.plot(t, signal)"
   ]
  },
  {
   "cell_type": "code",
   "execution_count": 7,
   "metadata": {},
   "outputs": [
    {
     "name": "stdout",
     "output_type": "stream",
     "text": [
      "13229\n"
     ]
    }
   ],
   "source": [
    "chunk_length = 0.3 # seconds\n",
    "chunks  = track_length / chunk_length # chunks in track\n",
    "chunk_n = int(track_n / chunks)\n",
    "print(chunk_n)\n",
    "\n",
    "chunk = signal[:chunk_n]\n",
    "f_line = np.arange(0, chunk_n/2, 1) # когда жесткие пойдут - там юзай linspace\n"
   ]
  },
  {
   "cell_type": "code",
   "execution_count": null,
   "metadata": {},
   "outputs": [],
   "source": [
    "n = chunk_n\n",
    "# n = 20\n",
    "x = np.ones((n*n, n)) * np.linspace(0, n, n)\n",
    "# b = np.repeat(np.arange(n), n).reshape(-1, 1)\n",
    "# k = (np.tile(np.arange(n), n).reshape(-1, 1) - b) / (n)\n",
    "# f_pack = k * x + b\n",
    "\n",
    "b = np.repeat(np.linspace(0, n/2, n), n).reshape(-1, 1)\n",
    "k = (np.tile(np.linspace(0, n/2, n), n).reshape(-1, 1) - b) / (n)\n",
    "f_pack = k * x + b\n",
    "f_pack.shape"
   ]
  },
  {
   "cell_type": "code",
   "execution_count": 62,
   "metadata": {},
   "outputs": [
    {
     "data": {
      "text/plain": [
       "22050"
      ]
     },
     "execution_count": 62,
     "metadata": {},
     "output_type": "execute_result"
    }
   ],
   "source": [
    "chunk_t = np.linspace(0, chunk_length, chunk_n)\n",
    "len(chunk_t)\n",
    "# basis_vectors = np.sin(2*np.pi*f_pack*t)"
   ]
  },
  {
   "cell_type": "code",
   "execution_count": 45,
   "metadata": {},
   "outputs": [],
   "source": [
    "# f_pack"
   ]
  },
  {
   "cell_type": "code",
   "execution_count": 54,
   "metadata": {},
   "outputs": [],
   "source": [
    "# plt.axis('equal')\n",
    "# plt.grid()\n",
    "# plt.xlim(0, n - 1)\n",
    "# plt.ylim(0, n//2)\n",
    "# for i in range(len(f_pack)):\n",
    "#     plt.plot(f_pack[i], 'k-', linewidth=0.7)\n",
    "# plt.show()"
   ]
  },
  {
   "cell_type": "code",
   "execution_count": null,
   "metadata": {},
   "outputs": [],
   "source": []
  }
 ],
 "metadata": {
  "kernelspec": {
   "display_name": "Python 3",
   "language": "python",
   "name": "python3"
  },
  "language_info": {
   "codemirror_mode": {
    "name": "ipython",
    "version": 3
   },
   "file_extension": ".py",
   "mimetype": "text/x-python",
   "name": "python",
   "nbconvert_exporter": "python",
   "pygments_lexer": "ipython3",
   "version": "3.7.0"
  }
 },
 "nbformat": 4,
 "nbformat_minor": 2
}
