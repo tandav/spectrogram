{
 "cells": [
  {
   "cell_type": "code",
   "execution_count": 2,
   "metadata": {},
   "outputs": [],
   "source": [
    "import matplotlib.pyplot as plt\n",
    "import numpy as np\n",
    "import os"
   ]
  },
  {
   "cell_type": "code",
   "execution_count": 3,
   "metadata": {},
   "outputs": [
    {
     "data": {
      "text/plain": [
       "array([0, 1, 2, 3, 4, 5, 6, 7, 8, 9])"
      ]
     },
     "execution_count": 3,
     "metadata": {},
     "output_type": "execute_result"
    }
   ],
   "source": [
    "n = 10\n",
    "x = np.arange(n)\n",
    "x"
   ]
  },
  {
   "cell_type": "code",
   "execution_count": 68,
   "metadata": {},
   "outputs": [],
   "source": [
    "def chunk_spectrogram(chunk, nperseg=4, noverlap=1, rate=44100, filename='spectrogram'):\n",
    "    '''\n",
    "    v1.0 only window\n",
    "    v2.0 without blur/sharp/gauss kernels <--- now makin this\n",
    "    v2.1 multi track support / multi / instrument\n",
    "    v3.0 with blur/sharp/gauss\n",
    "    v4.0 cupy support\n",
    "    '''\n",
    "#     chunk_n = len(chunk)\n",
    "    step = nperseg - noverlap\n",
    "    shape = chunk.shape[:-1] + ((chunk.shape[-1] - noverlap) // step, nperseg)\n",
    "    strides = chunk.strides[:-1] + (step * chunk.strides[-1], chunk.strides[-1])\n",
    "    chunk_rolled = np.lib.stride_tricks.as_strided(chunk, shape=shape, strides=strides)\n",
    "    \n",
    "    f_N = nperseg // 1\n",
    "    t_chunk = np.linspace(0, nperseg / rate, nperseg)\n",
    "    f = np.logspace(np.log10(30), np.log10(nperseg//2), f_N) # second arg: nperseg//2 (Nyquist limit)\n",
    "    # f = np.geomspace(30, nperseg//2, f_N) # second arg: nperseg//2 (Nyquist limit)\n",
    "    \n",
    "    T_chunk, F_chunk = np.meshgrid(t_chunk, f)\n",
    "    E = np.array(np.exp(-2j * np.pi * F_chunk * T_chunk))\n",
    "    \n",
    "    # chunk_rolled = chunk_rolled * window\n",
    "    \n",
    "    corr = np.dot(chunk_rolled, E.T)\n",
    "    magnitude = np.abs(corr)\n",
    "    \n",
    "    spectrogram = magnitude.T\n",
    "    \n",
    "\n",
    "    with open(f'{filename}.png', 'wb') as file:\n",
    "        plt.imsave(file, spectrogram, cmap='viridis', origin='lower')\n",
    "    os.system(f'qlmanage -p {filename}.png')\n",
    "#     files.download('spectrogram.png')\n",
    "    print(magnitude)"
   ]
  },
  {
   "cell_type": "code",
   "execution_count": 69,
   "metadata": {},
   "outputs": [
    {
     "name": "stdout",
     "output_type": "stream",
     "text": [
      "[[ 1.73205081  1.73051558  3.89868938  5.22480623]\n",
      " [ 4.58257569  4.44308725  6.31170243 13.28661239]\n",
      " [ 7.54983444  7.29614313  9.43997907 21.79460957]]\n"
     ]
    }
   ],
   "source": [
    "# nperseg  = 11025 // 5\n",
    "# noverlap = nperseg // 100 * 98\n",
    "\n",
    "chunk_spectrogram(x, rate=3)"
   ]
  },
  {
   "cell_type": "code",
   "execution_count": 35,
   "metadata": {},
   "outputs": [
    {
     "data": {
      "text/plain": [
       "array([[ 0,  1,  2,  3],\n",
       "       [ 4,  5,  6,  7],\n",
       "       [ 8,  9, 10, 11],\n",
       "       [12, 13, 14, 15],\n",
       "       [16, 17, 18, 19]])"
      ]
     },
     "execution_count": 35,
     "metadata": {},
     "output_type": "execute_result"
    }
   ],
   "source": [
    "E = np.arange(20).reshape(5,4)\n",
    "E"
   ]
  },
  {
   "cell_type": "code",
   "execution_count": 18,
   "metadata": {},
   "outputs": [
    {
     "data": {
      "text/plain": [
       "array([14, 38, 62, 86])"
      ]
     },
     "execution_count": 18,
     "metadata": {},
     "output_type": "execute_result"
    }
   ],
   "source": [
    "np.dot(E, np.array([0, 1, 2, 3]))"
   ]
  },
  {
   "cell_type": "code",
   "execution_count": 21,
   "metadata": {},
   "outputs": [
    {
     "data": {
      "text/plain": [
       "array([ 32, 104, 176, 248])"
      ]
     },
     "execution_count": 21,
     "metadata": {},
     "output_type": "execute_result"
    }
   ],
   "source": [
    "np.dot(E, np.array([3, 4, 5, 6]))"
   ]
  },
  {
   "cell_type": "code",
   "execution_count": 22,
   "metadata": {},
   "outputs": [
    {
     "data": {
      "text/plain": [
       "array([ 50, 170, 290, 410])"
      ]
     },
     "execution_count": 22,
     "metadata": {},
     "output_type": "execute_result"
    }
   ],
   "source": [
    "np.dot(E, np.array([6, 7, 8, 9]))"
   ]
  },
  {
   "cell_type": "code",
   "execution_count": null,
   "metadata": {},
   "outputs": [],
   "source": []
  },
  {
   "cell_type": "code",
   "execution_count": 33,
   "metadata": {},
   "outputs": [],
   "source": [
    "t = np.array(\n",
    "    [[0, 1, 2, 3],\n",
    "     [3, 4, 5, 6],\n",
    "     [6, 7, 8, 9]]\n",
    ")"
   ]
  },
  {
   "cell_type": "code",
   "execution_count": 36,
   "metadata": {},
   "outputs": [
    {
     "name": "stdout",
     "output_type": "stream",
     "text": [
      "[ 14  38  62  86 110]\n",
      "[ 32 104 176 248 320]\n",
      "[ 50 170 290 410 530]\n"
     ]
    }
   ],
   "source": [
    "print(np.dot(E, t[0]))\n",
    "print(np.dot(E, t[1]))\n",
    "print(np.dot(E, t[2]))"
   ]
  },
  {
   "cell_type": "code",
   "execution_count": 40,
   "metadata": {},
   "outputs": [
    {
     "data": {
      "text/plain": [
       "array([[ 14,  32,  50],\n",
       "       [ 38, 104, 170],\n",
       "       [ 62, 176, 290],\n",
       "       [ 86, 248, 410],\n",
       "       [110, 320, 530]])"
      ]
     },
     "execution_count": 40,
     "metadata": {},
     "output_type": "execute_result"
    }
   ],
   "source": [
    "# np.dot(E, z)\n",
    "np.dot(E, t.T)"
   ]
  },
  {
   "cell_type": "code",
   "execution_count": 42,
   "metadata": {},
   "outputs": [
    {
     "data": {
      "text/plain": [
       "array([[ 14,  38,  62,  86, 110],\n",
       "       [ 32, 104, 176, 248, 320],\n",
       "       [ 50, 170, 290, 410, 530]])"
      ]
     },
     "execution_count": 42,
     "metadata": {},
     "output_type": "execute_result"
    }
   ],
   "source": [
    "np.dot(t, E.T)"
   ]
  },
  {
   "cell_type": "markdown",
   "metadata": {},
   "source": [
    "# SIMPLE ROLLING WINDOW [STRIDES]"
   ]
  },
  {
   "cell_type": "code",
   "execution_count": 3,
   "metadata": {},
   "outputs": [
    {
     "data": {
      "text/plain": [
       "array([0, 1, 2, 3, 4, 5, 6, 7, 8, 9])"
      ]
     },
     "execution_count": 3,
     "metadata": {},
     "output_type": "execute_result"
    }
   ],
   "source": [
    "n = 10\n",
    "x = np.arange(n)\n",
    "x"
   ]
  },
  {
   "cell_type": "code",
   "execution_count": 6,
   "metadata": {},
   "outputs": [
    {
     "name": "stdout",
     "output_type": "stream",
     "text": [
      "[[0 1 2 3]\n",
      " [3 4 5 6]\n",
      " [6 7 8 9]]\n"
     ]
    }
   ],
   "source": [
    "nperseg  = 4\n",
    "noverlap = 1\n",
    "step = nperseg - noverlap\n",
    "shape = ((x.shape[-1] - noverlap) // step, nperseg)\n",
    "strides = (step * x.strides[-1], x.strides[-1])\n",
    "result = np.lib.stride_tricks.as_strided(x, shape=shape, strides=strides)\n",
    "print(result)"
   ]
  }
 ],
 "metadata": {
  "kernelspec": {
   "display_name": "Python 3",
   "language": "python",
   "name": "python3"
  },
  "language_info": {
   "codemirror_mode": {
    "name": "ipython",
    "version": 3
   },
   "file_extension": ".py",
   "mimetype": "text/x-python",
   "name": "python",
   "nbconvert_exporter": "python",
   "pygments_lexer": "ipython3",
   "version": "3.7.0"
  }
 },
 "nbformat": 4,
 "nbformat_minor": 2
}
