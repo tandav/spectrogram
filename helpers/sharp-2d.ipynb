{
 "cells": [
  {
   "cell_type": "code",
   "execution_count": 5,
   "metadata": {},
   "outputs": [],
   "source": [
    "import numpy as np\n",
    "import matplotlib.pyplot as plt"
   ]
  },
  {
   "cell_type": "code",
   "execution_count": 8,
   "metadata": {},
   "outputs": [
    {
     "name": "stdout",
     "output_type": "stream",
     "text": [
      "[ 1  5  2 14 47 14  1  0]\n"
     ]
    },
    {
     "data": {
      "text/plain": [
       "[<matplotlib.lines.Line2D at 0x113589278>]"
      ]
     },
     "execution_count": 8,
     "metadata": {},
     "output_type": "execute_result"
    },
    {
     "data": {
      "image/png": "[encoded data removed]",
      "text/plain": [
       "<Figure size 432x288 with 1 Axes>"
      ]
     },
     "metadata": {
      "needs_background": "light"
     },
     "output_type": "display_data"
    }
   ],
   "source": [
    "f = np.array([0, 1, 0, 1, 9, 1, 0, 0])\n",
    "g = np.array([1, 5, 1])\n",
    "\n",
    "c = np.correlate(f, g, mode='same')\n",
    "print(c)\n",
    "\n",
    "plt.plot(f, 'b')\n",
    "plt.plot(c, 'r')"
   ]
  },
  {
   "cell_type": "code",
   "execution_count": null,
   "metadata": {},
   "outputs": [],
   "source": [
    "r = np.zeros_like(f)\n",
    "\n",
    "for i, fi in enumerate(f):\n",
    "    r[i] = fi * "
   ]
  },
  {
   "cell_type": "code",
   "execution_count": 49,
   "metadata": {},
   "outputs": [],
   "source": [
    "def convolution(A, B):\n",
    "    lengthA = np.size(A) \n",
    "    lengthB = np.size(B)\n",
    "    C = np.zeros(lengthA + lengthB - 1)\n",
    "    print('m', 'n', '|', 'm + n')\n",
    "    for m in np.arange(lengthA):\n",
    "        for n in np.arange(lengthB):\n",
    "            print(m, n, '|', m + n)\n",
    "            C[m + n] += A[m] * B[n]\n",
    "    return C.astype(int)"
   ]
  },
  {
   "cell_type": "code",
   "execution_count": 68,
   "metadata": {},
   "outputs": [
    {
     "name": "stdout",
     "output_type": "stream",
     "text": [
      "[0 1 0 1 9 1 0 0] [1 5 1] [ 1  5  2 14 47 14  1  0]\n",
      "[[0 1 0 1 9 1 0 0]\n",
      " [0 1 0 1 9 1 0 0]\n",
      " [0 1 0 1 9 1 0 0]\n",
      " [0 1 0 1 9 1 0 0]]\n",
      "[0 1 0 1 9 1 0 0 0 1 0 1 9 1 0 0 0 1 0 1 9 1 0 0 0 1 0 1 9 1 0 0]\n",
      "==========\n",
      "[ 5  2 14 47 14  1  0  1  5  2 14 47 14  1  0  1  5  2 14 47 14  1  0  1\n",
      "  5  2 14 47 14  1]\n",
      "30\n",
      "[ 0  1  5  2 14 47 14  1  0  1  5  2 14 47 14  1  0  1  5  2 14 47 14  1\n",
      "  0  1  5  2 14 47 14  1  0  0]\n",
      "34\n",
      "[ 1  5  2 14 47 14  1  0  1  5  2 14 47 14  1  0  1  5  2 14 47 14  1  0\n",
      "  1  5  2 14 47 14  1  0]\n",
      "32\n",
      "[ 1 14 47 14  2  5  1  0  1 14 47 14  2  5  1  0  1 14 47 14  2  5  1  0\n",
      "  1 14 47 14  2  5]\n",
      "30\n",
      "[ 0  0  1 14 47 14  2  5  1  0  1 14 47 14  2  5  1  0  1 14 47 14  2  5\n",
      "  1  0  1 14 47 14  2  5  1  0]\n",
      "34\n",
      "[ 0  1 14 47 14  2  5  1  0  1 14 47 14  2  5  1  0  1 14 47 14  2  5  1\n",
      "  0  1 14 47 14  2  5  1]\n",
      "32\n"
     ]
    }
   ],
   "source": [
    "print(f, g, np.correlate(f, g, mode='same'))\n",
    "f_tile = np.tile(f, (4, 1))\n",
    "print(f_tile)\n",
    "print(f_tile.flatten())\n",
    "\n",
    "\n",
    "flat = f_tile.flatten()\n",
    "print('==========')\n",
    "cor = np.correlate(flat, g, 'valid')\n",
    "print(cor)\n",
    "print(len(cor))\n",
    "cor = np.correlate(flat, g, 'full')\n",
    "print(cor)\n",
    "print(len(cor))\n",
    "cor = np.correlate(flat, g, 'same')\n",
    "print(cor)\n",
    "print(len(cor))\n",
    "cor = np.correlate(g, flat, 'valid')\n",
    "print(cor)\n",
    "print(len(cor))\n",
    "cor = np.correlate(g, flat, 'full')\n",
    "print(cor)\n",
    "print(len(cor))\n",
    "cor = np.correlate(g, flat, 'same')\n",
    "print(cor)\n",
    "print(len(cor))"
   ]
  },
  {
   "cell_type": "code",
   "execution_count": 71,
   "metadata": {},
   "outputs": [
    {
     "name": "stdout",
     "output_type": "stream",
     "text": [
      "[[ 1  5  2 14 47 14  1  0]\n",
      " [ 1  5  2 14 47 14  1  0]\n",
      " [ 1  5  2 14 47 14  1  0]\n",
      " [ 1  5  2 14 47 14  1  0]]\n"
     ]
    }
   ],
   "source": [
    "cor = np.correlate(flat, g, 'same').reshape(f_tile.shape)\n",
    "print(cor)"
   ]
  },
  {
   "cell_type": "code",
   "execution_count": 54,
   "metadata": {},
   "outputs": [
    {
     "name": "stdout",
     "output_type": "stream",
     "text": [
      "[ 0  1  5  2 14 47 14  1  0  0]\n",
      "[ 0  1  5  2 14 47 14  1  0  0]\n",
      "[ 1  5  2 14 47 14  1  0]\n",
      "[ 1  5  2 14 47 14  1  0]\n"
     ]
    }
   ],
   "source": [
    "# np.convolve(f, g, mode='same')\n",
    "print(np.correlate(f, g, mode='full'))\n",
    "print(np.convolve(f, g, mode='full'))\n",
    "\n",
    "print(np.correlate(f, g, mode='same'))\n",
    "print(np.convolve(f, g, mode='same'))"
   ]
  },
  {
   "cell_type": "code",
   "execution_count": 51,
   "metadata": {
    "scrolled": false
   },
   "outputs": [
    {
     "name": "stdout",
     "output_type": "stream",
     "text": [
      "m n | m + n\n",
      "0 0 | 0\n",
      "0 1 | 1\n",
      "0 2 | 2\n",
      "1 0 | 1\n",
      "1 1 | 2\n",
      "1 2 | 3\n",
      "2 0 | 2\n",
      "2 1 | 3\n",
      "2 2 | 4\n",
      "3 0 | 3\n",
      "3 1 | 4\n",
      "3 2 | 5\n",
      "4 0 | 4\n",
      "4 1 | 5\n",
      "4 2 | 6\n",
      "5 0 | 5\n",
      "5 1 | 6\n",
      "5 2 | 7\n",
      "6 0 | 6\n",
      "6 1 | 7\n",
      "6 2 | 8\n",
      "7 0 | 7\n",
      "7 1 | 8\n",
      "7 2 | 9\n"
     ]
    },
    {
     "data": {
      "text/plain": [
       "array([ 0,  1,  5,  2, 14, 47, 14,  1,  0,  0])"
      ]
     },
     "execution_count": 51,
     "metadata": {},
     "output_type": "execute_result"
    }
   ],
   "source": [
    "convolution(f, g)"
   ]
  },
  {
   "cell_type": "code",
   "execution_count": null,
   "metadata": {},
   "outputs": [],
   "source": []
  }
 ],
 "metadata": {
  "kernelspec": {
   "display_name": "Python 3",
   "language": "python",
   "name": "python3"
  },
  "language_info": {
   "codemirror_mode": {
    "name": "ipython",
    "version": 3
   },
   "file_extension": ".py",
   "mimetype": "text/x-python",
   "name": "python",
   "nbconvert_exporter": "python",
   "pygments_lexer": "ipython3",
   "version": "3.7.0"
  }
 },
 "nbformat": 4,
 "nbformat_minor": 2
}
